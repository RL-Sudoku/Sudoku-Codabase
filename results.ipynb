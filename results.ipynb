{
 "cells": [
  {
   "cell_type": "code",
   "execution_count": null,
   "metadata": {},
   "outputs": [],
   "source": []
  },
  {
   "attachments": {},
   "cell_type": "markdown",
   "metadata": {},
   "source": [
    "## Introduction\n",
    "\n",
    "- 2 states representations\n",
    "- Motivations of using function approximation\n",
    "\n",
    "- Our states, actions, and rewards"
   ]
  },
  {
   "attachments": {},
   "cell_type": "markdown",
   "metadata": {},
   "source": [
    "## Agents\n",
    "\n",
    "- Random vs. Random\n",
    "\n",
    "- For each agent: \n",
    "    - agent vs. random\n",
    "    - winning rate\n",
    "    - learning curve\n",
    "\n",
    "Play against each other\n",
    "- Table"
   ]
  },
  {
   "cell_type": "code",
   "execution_count": null,
   "metadata": {},
   "outputs": [],
   "source": []
  },
  {
   "attachments": {},
   "cell_type": "markdown",
   "metadata": {},
   "source": [
    "## Discussion & Limitation\n",
    "\n",
    "1. Hyperparameters & Architecture\n",
    "2. Multiple players\n",
    "3. Two more base agents\n",
    "4. State representation\n",
    "5. Game is difficult\n"
   ]
  }
 ],
 "metadata": {
  "language_info": {
   "name": "python"
  },
  "orig_nbformat": 4
 },
 "nbformat": 4,
 "nbformat_minor": 2
}
