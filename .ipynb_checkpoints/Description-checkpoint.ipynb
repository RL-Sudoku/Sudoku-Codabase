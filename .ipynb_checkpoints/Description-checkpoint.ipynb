{
 "cells": [
  {
   "cell_type": "markdown",
   "id": "5245ab95",
   "metadata": {},
   "source": [
    "This scope of our proejct is to replicate the game of Uno in a way to allow for training with reinforcement learning type techniques. In order to make this feasible, we had to make some simplifications to the game as a way to better represent state space. For example, we decided not to include the color of the special cards (e.g. skip, reverse, etc). Despite these modifications, Uno is a very stochastic game, and thus this yields a state space that is on the scale of $10^{72}$. "
   ]
  },
  {
   "cell_type": "code",
   "execution_count": null,
   "id": "e515b81a",
   "metadata": {},
   "outputs": [],
   "source": []
  }
 ],
 "metadata": {
  "kernelspec": {
   "display_name": "Python 3 (ipykernel)",
   "language": "python",
   "name": "python3"
  },
  "language_info": {
   "codemirror_mode": {
    "name": "ipython",
    "version": 3
   },
   "file_extension": ".py",
   "mimetype": "text/x-python",
   "name": "python",
   "nbconvert_exporter": "python",
   "pygments_lexer": "ipython3",
   "version": "3.9.12"
  }
 },
 "nbformat": 4,
 "nbformat_minor": 5
}
